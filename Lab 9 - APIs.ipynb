{
 "cells": [
  {
   "cell_type": "code",
   "execution_count": 10,
   "metadata": {},
   "outputs": [],
   "source": [
    "import requests\n",
    "from bs4 import BeautifulSoup\n",
    "import pandas as pd\n",
    "import matplotlib.pyplot as plt\n",
    "import seaborn as sns\n",
    "import statsmodels.formula.api as smf"
   ]
  },
  {
   "cell_type": "markdown",
   "metadata": {},
   "source": [
    "## Part A1"
   ]
  },
  {
   "cell_type": "code",
   "execution_count": 2,
   "metadata": {},
   "outputs": [],
   "source": [
    "base = 'http://historical.elections.virginia.gov/elections/search/year_from:1924/year_to:2016/office_id:1/stage:General'\n",
    "response = requests.get(base)\n",
    "page = BeautifulSoup(response.text, 'html.parser')"
   ]
  },
  {
   "cell_type": "code",
   "execution_count": 4,
   "metadata": {},
   "outputs": [],
   "source": [
    "election_items = page.find_all('tr', class_='election_item general_party')"
   ]
  },
  {
   "cell_type": "code",
   "execution_count": null,
   "metadata": {},
   "outputs": [],
   "source": [
    "df = pd.DataFrame({'year':years, 'election_id':election_ids})\n",
    "df.to_csv('election_ids.csv', index=False)"
   ]
  },
  {
   "cell_type": "markdown",
   "metadata": {},
   "source": [
    "### Part A2\n",
    "\n",
    "#### Make a 'data' folder in the folder you're working in (this is where all CSVs by year will be stored)"
   ]
  },
  {
   "cell_type": "code",
   "execution_count": 6,
   "metadata": {},
   "outputs": [],
   "source": [
    "# Read back the CSV for election_ids\n",
    "# Loop over all rows of the DataFrame\n",
    "# Extract Year, Election ID (convert to string since Pandas stores it as float)"
   ]
  },
  {
   "cell_type": "code",
   "execution_count": 5,
   "metadata": {},
   "outputs": [],
   "source": [
    "url_for_csv = 'http://historical.elections.virginia.gov/elections/download/80871/precincts_include:0/'\n",
    "\n",
    "### break it down into a prefix and suffix"
   ]
  },
  {
   "cell_type": "code",
   "execution_count": null,
   "metadata": {},
   "outputs": [],
   "source": [
    "response = requests.get(prefix + str(election_id) + suffix)\n",
    "with open('data/' + str(year) + '.csv', 'w') as f:\n",
    "    f.write(response.text)"
   ]
  },
  {
   "cell_type": "markdown",
   "metadata": {},
   "source": [
    "## Part B1"
   ]
  },
  {
   "cell_type": "code",
   "execution_count": null,
   "metadata": {},
   "outputs": [],
   "source": [
    "# Read back the CSV for election_ids\n",
    "# Loop over all rows of the DataFrame\n",
    "# Extract Year (convert to string since Pandas stores it as float)\n",
    "df = pd.read_csv('data/' + str(year) + '.csv')\n",
    "\n",
    "# drop first row\n",
    "df.drop(0, inplace=True)"
   ]
  },
  {
   "cell_type": "code",
   "execution_count": null,
   "metadata": {},
   "outputs": [],
   "source": [
    "# define function to_number(series) to convert column of strings to column of integers\n",
    "series.str.replace(',','').astype(int)"
   ]
  },
  {
   "cell_type": "code",
   "execution_count": 7,
   "metadata": {},
   "outputs": [],
   "source": [
    "# define function to extract_county_city\n",
    "### look for a parenthesis '(' and work accordingly"
   ]
  },
  {
   "cell_type": "code",
   "execution_count": null,
   "metadata": {},
   "outputs": [],
   "source": [
    "# USe groupby(df['County/City']).sum() to calculate Republican Shares\n",
    "# Add column storing the year of the election\n",
    "# Append it to a bigger list of DataFrames\n",
    "\n",
    "# pd.concat() to concatenate all DataFrames into one\n",
    "final_df = pd.concat(list_of_dfs)\n",
    "final_df.to_csv('republican_shares.csv')"
   ]
  },
  {
   "cell_type": "markdown",
   "metadata": {},
   "source": [
    "## Part B2"
   ]
  },
  {
   "cell_type": "code",
   "execution_count": null,
   "metadata": {},
   "outputs": [],
   "source": [
    "# Read in the Republican Shares CSV file\n",
    "df = pd.read_csv('republican_shares.csv')\n",
    "\n",
    "# Set multi-index\n",
    "df.set_index(['County/City', 'Year'], inplace=True)"
   ]
  },
  {
   "cell_type": "code",
   "execution_count": null,
   "metadata": {},
   "outputs": [],
   "source": [
    "# Unstack at County/City level so that you have series by year\n",
    "df = df['R_SHARE'].unstack(level='County/City')\n",
    "\n",
    "time_series_plot = df[['Accomack County', 'Amelia County', 'Amherst County', 'Alleghany County']].plot()\n",
    "\n",
    "# Useful functions: time_series_plot.set_title()   time_series_plot.set_ylabel()\n",
    "plt.savefig('republican_shares.png')"
   ]
  },
  {
   "cell_type": "markdown",
   "metadata": {},
   "source": [
    "## Part B3"
   ]
  },
  {
   "cell_type": "code",
   "execution_count": null,
   "metadata": {},
   "outputs": [],
   "source": [
    "# API Setup\n",
    "url = 'https://api.census.gov/data/2016/acs/acs5/profile'\n",
    "params = {'get': #<put in the codes for the 3 variables you want>\n",
    "          'for':'county:*',\n",
    "          'in':'state:51'}\n"
   ]
  },
  {
   "cell_type": "code",
   "execution_count": null,
   "metadata": {},
   "outputs": [],
   "source": [
    "# Use requests.get() to extract the text data and then .json() to convert to a json\n",
    "j = requests.get(url, params=params).json()\n",
    "\n",
    "# Convert to DataFrame\n",
    "df = pd.DataFrame(j[1:], columns=j[0])\n",
    "\n",
    "### Rename columns as per your choice\n",
    "\n",
    "# Store in a CSV file\n",
    "df.to_csv('acs.csv', index=False)"
   ]
  },
  {
   "cell_type": "markdown",
   "metadata": {},
   "source": [
    "## Part B4"
   ]
  },
  {
   "cell_type": "code",
   "execution_count": null,
   "metadata": {},
   "outputs": [],
   "source": [
    "# Read in the two CSV files\n",
    "\n",
    "# Merge the two DataFrames\n",
    "df = share.merge(acs, on='County/City')\n",
    "\n",
    "# Make a pairplot using seaborn (import seaborn as sns)\n",
    "sns.pairplot(df, vars=['''<this should be the columns you renamed in B3>'''var1, var2, var3, 'R_SHARE'])"
   ]
  },
  {
   "cell_type": "code",
   "execution_count": null,
   "metadata": {},
   "outputs": [],
   "source": [
    "# Run an OLS Regression using smf (import statsmodels.formula.api as smf)\n",
    "res = smf.ols('R_SHARE ~ var1 + var2 + var3 <this should be the columns you renamed in B3>', df).fit()\n",
    "\n",
    "# Print the summary of the OLS Regression\n",
    "print(res.summary())"
   ]
  }
 ],
 "metadata": {
  "kernelspec": {
   "display_name": "Python 3",
   "language": "python",
   "name": "python3"
  },
  "language_info": {
   "codemirror_mode": {
    "name": "ipython",
    "version": 3
   },
   "file_extension": ".py",
   "mimetype": "text/x-python",
   "name": "python",
   "nbconvert_exporter": "python",
   "pygments_lexer": "ipython3",
   "version": "3.6.4"
  }
 },
 "nbformat": 4,
 "nbformat_minor": 2
}
