{
 "cells": [
  {
   "cell_type": "markdown",
   "metadata": {},
   "source": [
    "# Lab 10 - SQL and Relational Databases\n",
    "\n",
    "#### This notebook is not meant to be run with Python commands\n",
    "#### Use it only for quick reference"
   ]
  },
  {
   "cell_type": "markdown",
   "metadata": {},
   "source": [
    "### Download the Data (ATUS.sqlite) : https://uchicago.app.box.com/s/1yvi09mtje40ep21mf4vt3obm70fvsms"
   ]
  },
  {
   "cell_type": "markdown",
   "metadata": {},
   "source": [
    "#### Data Dictionary : https://www.bls.gov/tus/atuscpscodebk16.pdf\n",
    "#### Lexicon : https://www.census.gov/geo/reference/ansi_statetables.html"
   ]
  },
  {
   "cell_type": "markdown",
   "metadata": {},
   "source": [
    "#### (1) Launch SQLite (use sqlite3 only in the folder where you have kept the downloaded data file)\n",
    "    $ sqlite3 atus.sqlite\n",
    "\n",
    "#### (2) Settings to see the Query Outputs in a \"nicer\" format\n",
    "    $ .mode columns\n",
    "    $ .headers on\n",
    "\n",
    "#### (3) Get list of all tables in the Database\n",
    "    $ .tables\n",
    "\n",
    "#### (4) Get \"schema\" (design) of tables\n",
    "    $ .schema --indent respondents         (for seeing the design of the 'respondents' tables)\n",
    "    $ .schema                              (for seeing the design of all tables in the schema)\n",
    "    $ .fullschema                          (for seeing the design of all tables in the schema)\n",
    "\n",
    "#### (5) See all records in a table\n",
    "    $ select * from cps limit 5;           (shows you only first 5 records) => avoid printing whole table"
   ]
  },
  {
   "cell_type": "markdown",
   "metadata": {},
   "source": [
    "### Q1 (use 'cps' table)\n",
    "    Educational Attainment : page 28 (search \"PEEDUCA\") of Data Dictionary\n",
    "\n",
    "### Q2 (use 'respondents' table)\n",
    "    Work Eligibility : page 28 (search \"PEDWWNTO\") of Data Dictionary\n",
    "\n",
    "### Q3 (use 'respondents' table)\n",
    "    Group by 'spouse_or_partner_present'\n",
    "\n",
    "### Q4 (use 'activities' & 'roster' tables)\n",
    "    *Join the two tables carefully (look for common fields)\n",
    "    Edited_sex : 1 (males) and 2 (female)\n",
    "    Edited_age / 10 : this will give you the age decade (0 for 0-9, 1 for 10-19, 2 for 20-29, and so on...)\n",
    "    Duration / 60 : this will give you time spent in hours\n",
    "    activity_code=120307 (for chosing Video Games)\n",
    "    *Use groupby with multiple columns\n",
    "\n",
    "### Q6 (use 'activities', 'roster', & 'cps' tables)\n",
    "    *requires two Joins => ((activities JOIN roster) JOIN cps)\n",
    "    *Use groupby with multiple columns\n",
    "    \n",
    "    *Hint: check what happens with activity_code / 10000"
   ]
  },
  {
   "cell_type": "markdown",
   "metadata": {},
   "source": [
    "### Using Python sqlite3 library for Q5"
   ]
  },
  {
   "cell_type": "code",
   "execution_count": null,
   "metadata": {},
   "outputs": [],
   "source": [
    "# Everything based on Class Slides (\"More SQL and Python Integration\")\n",
    "\n",
    "import sqlite3\n",
    "import pandas as pd\n",
    "from matplotlib import pyplot as plt\n",
    "\n",
    "con = sqlite3.connect('atus.sqlite')\n",
    "\n",
    "# To read the script directly from the q4.sql file your created in the folder\n",
    "with open('q4.sql') as f:\n",
    "    sql = f.read()\n",
    "\n",
    "# Run the SQL query and store result in a Pandas DataFrame\n",
    "df = pd.read_sql(sql , con)\n",
    "\n",
    "# Remap the 'edited_sex' column to the true values\n",
    "df['sex'] = df['sex'].map({1:'Male', 2:'Female'})\n",
    "\n",
    "# Use Pandas set_index, unstack, plot"
   ]
  },
  {
   "cell_type": "code",
   "execution_count": null,
   "metadata": {},
   "outputs": [],
   "source": []
  }
 ],
 "metadata": {
  "kernelspec": {
   "display_name": "Python 3",
   "language": "python",
   "name": "python3"
  },
  "language_info": {
   "codemirror_mode": {
    "name": "ipython",
    "version": 3
   },
   "file_extension": ".py",
   "mimetype": "text/x-python",
   "name": "python",
   "nbconvert_exporter": "python",
   "pygments_lexer": "ipython3",
   "version": "3.6.4"
  }
 },
 "nbformat": 4,
 "nbformat_minor": 2
}
